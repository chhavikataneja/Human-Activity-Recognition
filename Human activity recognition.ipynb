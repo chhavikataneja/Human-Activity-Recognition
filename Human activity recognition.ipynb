{
 "cells": [
  {
   "cell_type": "code",
   "execution_count": 1,
   "metadata": {},
   "outputs": [],
   "source": [
    "import pandas as pd\n",
    "import numpy as np\n",
    "import os\n",
    "import matplotlib.pyplot as plt \n",
    "%matplotlib inline"
   ]
  },
  {
   "cell_type": "code",
   "execution_count": 2,
   "metadata": {},
   "outputs": [],
   "source": [
    "os.chdir(r\"G:\\Projects\\Human activity recognition\\train.csv\")"
   ]
  },
  {
   "cell_type": "code",
   "execution_count": 3,
   "metadata": {},
   "outputs": [],
   "source": [
    "data = pd.read_csv(\"train.csv\")"
   ]
  },
  {
   "cell_type": "code",
   "execution_count": 4,
   "metadata": {},
   "outputs": [
    {
     "data": {
      "text/html": [
       "<div>\n",
       "<style scoped>\n",
       "    .dataframe tbody tr th:only-of-type {\n",
       "        vertical-align: middle;\n",
       "    }\n",
       "\n",
       "    .dataframe tbody tr th {\n",
       "        vertical-align: top;\n",
       "    }\n",
       "\n",
       "    .dataframe thead th {\n",
       "        text-align: right;\n",
       "    }\n",
       "</style>\n",
       "<table border=\"1\" class=\"dataframe\">\n",
       "  <thead>\n",
       "    <tr style=\"text-align: right;\">\n",
       "      <th></th>\n",
       "      <th>rn</th>\n",
       "      <th>activity</th>\n",
       "      <th>tBodyAcc.mean.X</th>\n",
       "      <th>tBodyAcc.mean.Y</th>\n",
       "      <th>tBodyAcc.mean.Z</th>\n",
       "      <th>tBodyAcc.std.X</th>\n",
       "      <th>tBodyAcc.std.Y</th>\n",
       "      <th>tBodyAcc.std.Z</th>\n",
       "      <th>tBodyAcc.mad.X</th>\n",
       "      <th>tBodyAcc.mad.Y</th>\n",
       "      <th>...</th>\n",
       "      <th>fBodyBodyGyroJerkMag.meanFreq</th>\n",
       "      <th>fBodyBodyGyroJerkMag.skewness</th>\n",
       "      <th>fBodyBodyGyroJerkMag.kurtosis</th>\n",
       "      <th>angle.tBodyAccMean.gravity</th>\n",
       "      <th>angle.tBodyAccJerkMean.gravityMean</th>\n",
       "      <th>angle.tBodyGyroMean.gravityMean</th>\n",
       "      <th>angle.tBodyGyroJerkMean.gravityMean</th>\n",
       "      <th>angle.X.gravityMean</th>\n",
       "      <th>angle.Y.gravityMean</th>\n",
       "      <th>angle.Z.gravityMean</th>\n",
       "    </tr>\n",
       "  </thead>\n",
       "  <tbody>\n",
       "    <tr>\n",
       "      <th>1826</th>\n",
       "      <td>5211</td>\n",
       "      <td>WALKING_DOWNSTAIRS</td>\n",
       "      <td>0.383</td>\n",
       "      <td>-0.03770</td>\n",
       "      <td>-0.0881</td>\n",
       "      <td>-0.0880</td>\n",
       "      <td>-0.00742</td>\n",
       "      <td>-0.357</td>\n",
       "      <td>-0.1340</td>\n",
       "      <td>-0.0756</td>\n",
       "      <td>...</td>\n",
       "      <td>-0.0266</td>\n",
       "      <td>-0.188</td>\n",
       "      <td>-0.525</td>\n",
       "      <td>-0.753</td>\n",
       "      <td>0.0421</td>\n",
       "      <td>0.229</td>\n",
       "      <td>-0.6960</td>\n",
       "      <td>-0.689</td>\n",
       "      <td>0.136</td>\n",
       "      <td>-0.2030</td>\n",
       "    </tr>\n",
       "    <tr>\n",
       "      <th>192</th>\n",
       "      <td>586</td>\n",
       "      <td>LAYING</td>\n",
       "      <td>0.278</td>\n",
       "      <td>-0.01730</td>\n",
       "      <td>-0.1060</td>\n",
       "      <td>-0.9980</td>\n",
       "      <td>-0.99700</td>\n",
       "      <td>-0.993</td>\n",
       "      <td>-0.9980</td>\n",
       "      <td>-0.9980</td>\n",
       "      <td>...</td>\n",
       "      <td>0.1880</td>\n",
       "      <td>-0.560</td>\n",
       "      <td>-0.812</td>\n",
       "      <td>-0.253</td>\n",
       "      <td>0.1280</td>\n",
       "      <td>0.427</td>\n",
       "      <td>0.7080</td>\n",
       "      <td>0.395</td>\n",
       "      <td>-0.649</td>\n",
       "      <td>-0.3190</td>\n",
       "    </tr>\n",
       "    <tr>\n",
       "      <th>3089</th>\n",
       "      <td>8832</td>\n",
       "      <td>WALKING_DOWNSTAIRS</td>\n",
       "      <td>0.161</td>\n",
       "      <td>-0.00361</td>\n",
       "      <td>-0.1450</td>\n",
       "      <td>0.0762</td>\n",
       "      <td>0.33300</td>\n",
       "      <td>-0.572</td>\n",
       "      <td>-0.0331</td>\n",
       "      <td>0.2020</td>\n",
       "      <td>...</td>\n",
       "      <td>-0.1490</td>\n",
       "      <td>-0.569</td>\n",
       "      <td>-0.883</td>\n",
       "      <td>0.696</td>\n",
       "      <td>0.4310</td>\n",
       "      <td>0.641</td>\n",
       "      <td>0.6680</td>\n",
       "      <td>-0.847</td>\n",
       "      <td>0.202</td>\n",
       "      <td>0.0404</td>\n",
       "    </tr>\n",
       "    <tr>\n",
       "      <th>1035</th>\n",
       "      <td>2953</td>\n",
       "      <td>LAYING</td>\n",
       "      <td>0.280</td>\n",
       "      <td>-0.01550</td>\n",
       "      <td>-0.1110</td>\n",
       "      <td>-0.9940</td>\n",
       "      <td>-0.93900</td>\n",
       "      <td>-0.970</td>\n",
       "      <td>-0.9940</td>\n",
       "      <td>-0.9340</td>\n",
       "      <td>...</td>\n",
       "      <td>0.3250</td>\n",
       "      <td>-0.103</td>\n",
       "      <td>-0.566</td>\n",
       "      <td>0.183</td>\n",
       "      <td>-0.1080</td>\n",
       "      <td>0.106</td>\n",
       "      <td>0.1350</td>\n",
       "      <td>0.300</td>\n",
       "      <td>-0.226</td>\n",
       "      <td>-0.7230</td>\n",
       "    </tr>\n",
       "    <tr>\n",
       "      <th>1030</th>\n",
       "      <td>2942</td>\n",
       "      <td>LAYING</td>\n",
       "      <td>0.287</td>\n",
       "      <td>-0.01380</td>\n",
       "      <td>-0.1160</td>\n",
       "      <td>-0.9930</td>\n",
       "      <td>-0.98200</td>\n",
       "      <td>-0.990</td>\n",
       "      <td>-0.9940</td>\n",
       "      <td>-0.9810</td>\n",
       "      <td>...</td>\n",
       "      <td>0.1050</td>\n",
       "      <td>-0.108</td>\n",
       "      <td>-0.568</td>\n",
       "      <td>0.141</td>\n",
       "      <td>-0.4130</td>\n",
       "      <td>-0.399</td>\n",
       "      <td>0.0259</td>\n",
       "      <td>0.304</td>\n",
       "      <td>-0.223</td>\n",
       "      <td>-0.7270</td>\n",
       "    </tr>\n",
       "  </tbody>\n",
       "</table>\n",
       "<p>5 rows × 563 columns</p>\n",
       "</div>"
      ],
      "text/plain": [
       "        rn            activity  tBodyAcc.mean.X  tBodyAcc.mean.Y  \\\n",
       "1826  5211  WALKING_DOWNSTAIRS            0.383         -0.03770   \n",
       "192    586              LAYING            0.278         -0.01730   \n",
       "3089  8832  WALKING_DOWNSTAIRS            0.161         -0.00361   \n",
       "1035  2953              LAYING            0.280         -0.01550   \n",
       "1030  2942              LAYING            0.287         -0.01380   \n",
       "\n",
       "      tBodyAcc.mean.Z  tBodyAcc.std.X  tBodyAcc.std.Y  tBodyAcc.std.Z  \\\n",
       "1826          -0.0881         -0.0880        -0.00742          -0.357   \n",
       "192           -0.1060         -0.9980        -0.99700          -0.993   \n",
       "3089          -0.1450          0.0762         0.33300          -0.572   \n",
       "1035          -0.1110         -0.9940        -0.93900          -0.970   \n",
       "1030          -0.1160         -0.9930        -0.98200          -0.990   \n",
       "\n",
       "      tBodyAcc.mad.X  tBodyAcc.mad.Y         ...           \\\n",
       "1826         -0.1340         -0.0756         ...            \n",
       "192          -0.9980         -0.9980         ...            \n",
       "3089         -0.0331          0.2020         ...            \n",
       "1035         -0.9940         -0.9340         ...            \n",
       "1030         -0.9940         -0.9810         ...            \n",
       "\n",
       "      fBodyBodyGyroJerkMag.meanFreq  fBodyBodyGyroJerkMag.skewness  \\\n",
       "1826                        -0.0266                         -0.188   \n",
       "192                          0.1880                         -0.560   \n",
       "3089                        -0.1490                         -0.569   \n",
       "1035                         0.3250                         -0.103   \n",
       "1030                         0.1050                         -0.108   \n",
       "\n",
       "      fBodyBodyGyroJerkMag.kurtosis  angle.tBodyAccMean.gravity  \\\n",
       "1826                         -0.525                      -0.753   \n",
       "192                          -0.812                      -0.253   \n",
       "3089                         -0.883                       0.696   \n",
       "1035                         -0.566                       0.183   \n",
       "1030                         -0.568                       0.141   \n",
       "\n",
       "      angle.tBodyAccJerkMean.gravityMean  angle.tBodyGyroMean.gravityMean  \\\n",
       "1826                              0.0421                            0.229   \n",
       "192                               0.1280                            0.427   \n",
       "3089                              0.4310                            0.641   \n",
       "1035                             -0.1080                            0.106   \n",
       "1030                             -0.4130                           -0.399   \n",
       "\n",
       "      angle.tBodyGyroJerkMean.gravityMean  angle.X.gravityMean  \\\n",
       "1826                              -0.6960               -0.689   \n",
       "192                                0.7080                0.395   \n",
       "3089                               0.6680               -0.847   \n",
       "1035                               0.1350                0.300   \n",
       "1030                               0.0259                0.304   \n",
       "\n",
       "      angle.Y.gravityMean  angle.Z.gravityMean  \n",
       "1826                0.136              -0.2030  \n",
       "192                -0.649              -0.3190  \n",
       "3089                0.202               0.0404  \n",
       "1035               -0.226              -0.7230  \n",
       "1030               -0.223              -0.7270  \n",
       "\n",
       "[5 rows x 563 columns]"
      ]
     },
     "execution_count": 4,
     "metadata": {},
     "output_type": "execute_result"
    }
   ],
   "source": [
    "data.sample(5)"
   ]
  },
  {
   "cell_type": "code",
   "execution_count": 5,
   "metadata": {},
   "outputs": [
    {
     "name": "stdout",
     "output_type": "stream",
     "text": [
      "Shape of the data is (3609, 563)\n"
     ]
    }
   ],
   "source": [
    "print(\"Shape of the data is {}\".format(data.shape))"
   ]
  },
  {
   "cell_type": "code",
   "execution_count": 6,
   "metadata": {},
   "outputs": [
    {
     "name": "stdout",
     "output_type": "stream",
     "text": [
      "Activity labels: ['STANDING', 'SITTING', 'LAYING', 'WALKING', 'WALKING_DOWNSTAIRS', 'WALKING_UPSTAIRS']\n"
     ]
    }
   ],
   "source": [
    "label= data['activity']\n",
    "data= data.drop(['rn','activity'], axis=1)\n",
    "label_keys = label.unique().tolist()\n",
    "label = np.array(label)\n",
    "print('Activity labels: ' + str(label_keys))\n"
   ]
  },
  {
   "cell_type": "code",
   "execution_count": 7,
   "metadata": {},
   "outputs": [
    {
     "data": {
      "text/plain": [
       "tBodyAcc.mean.X                        0\n",
       "tBodyAcc.mean.Y                        0\n",
       "tBodyAcc.mean.Z                        0\n",
       "tBodyAcc.std.X                         0\n",
       "tBodyAcc.std.Y                         0\n",
       "tBodyAcc.std.Z                         0\n",
       "tBodyAcc.mad.X                         0\n",
       "tBodyAcc.mad.Y                         0\n",
       "tBodyAcc.mad.Z                         0\n",
       "tBodyAcc.max.X                         0\n",
       "tBodyAcc.max.Y                         0\n",
       "tBodyAcc.max.Z                         0\n",
       "tBodyAcc.min.X                         0\n",
       "tBodyAcc.min.Y                         0\n",
       "tBodyAcc.min.Z                         0\n",
       "tBodyAcc.sma                           0\n",
       "tBodyAcc.energy.X                      0\n",
       "tBodyAcc.energy.Y                      0\n",
       "tBodyAcc.energy.Z                      0\n",
       "tBodyAcc.iqr.X                         0\n",
       "tBodyAcc.iqr.Y                         0\n",
       "tBodyAcc.iqr.Z                         0\n",
       "tBodyAcc.entropy.X                     0\n",
       "tBodyAcc.entropy.Y                     0\n",
       "tBodyAcc.entropy.Z                     0\n",
       "tBodyAcc.arCoeff.X.1                   0\n",
       "tBodyAcc.arCoeff.X.2                   0\n",
       "tBodyAcc.arCoeff.X.3                   0\n",
       "tBodyAcc.arCoeff.X.4                   0\n",
       "tBodyAcc.arCoeff.Y.1                   0\n",
       "                                      ..\n",
       "fBodyBodyGyroMag.max                   0\n",
       "fBodyBodyGyroMag.min                   0\n",
       "fBodyBodyGyroMag.sma                   0\n",
       "fBodyBodyGyroMag.energy                0\n",
       "fBodyBodyGyroMag.iqr                   0\n",
       "fBodyBodyGyroMag.entropy               0\n",
       "fBodyBodyGyroMag.maxInds               0\n",
       "fBodyBodyGyroMag.meanFreq              0\n",
       "fBodyBodyGyroMag.skewness              0\n",
       "fBodyBodyGyroMag.kurtosis              0\n",
       "fBodyBodyGyroJerkMag.mean              0\n",
       "fBodyBodyGyroJerkMag.std               0\n",
       "fBodyBodyGyroJerkMag.mad               0\n",
       "fBodyBodyGyroJerkMag.max               0\n",
       "fBodyBodyGyroJerkMag.min               0\n",
       "fBodyBodyGyroJerkMag.sma               0\n",
       "fBodyBodyGyroJerkMag.energy            0\n",
       "fBodyBodyGyroJerkMag.iqr               0\n",
       "fBodyBodyGyroJerkMag.entropy           0\n",
       "fBodyBodyGyroJerkMag.maxInds           0\n",
       "fBodyBodyGyroJerkMag.meanFreq          0\n",
       "fBodyBodyGyroJerkMag.skewness          0\n",
       "fBodyBodyGyroJerkMag.kurtosis          0\n",
       "angle.tBodyAccMean.gravity             0\n",
       "angle.tBodyAccJerkMean.gravityMean     0\n",
       "angle.tBodyGyroMean.gravityMean        0\n",
       "angle.tBodyGyroJerkMean.gravityMean    0\n",
       "angle.X.gravityMean                    0\n",
       "angle.Y.gravityMean                    0\n",
       "angle.Z.gravityMean                    0\n",
       "Length: 561, dtype: int64"
      ]
     },
     "execution_count": 7,
     "metadata": {},
     "output_type": "execute_result"
    }
   ],
   "source": [
    "#check for missing values\n",
    "data.isnull().sum()"
   ]
  },
  {
   "cell_type": "code",
   "execution_count": null,
   "metadata": {},
   "outputs": [],
   "source": []
  },
  {
   "cell_type": "code",
   "execution_count": 8,
   "metadata": {},
   "outputs": [],
   "source": [
    "#normalize the dataset\n",
    "from sklearn.preprocessing import StandardScaler\n",
    "sc = StandardScaler()\n",
    "data= sc.fit_transform(data)"
   ]
  },
  {
   "cell_type": "markdown",
   "metadata": {},
   "source": [
    "### K means clustering"
   ]
  },
  {
   "cell_type": "code",
   "execution_count": 9,
   "metadata": {},
   "outputs": [
    {
     "data": {
      "image/png": "[encoded data removed]",
      "text/plain": [
       "<matplotlib.figure.Figure at 0x25d604c4e48>"
      ]
     },
     "metadata": {},
     "output_type": "display_data"
    }
   ],
   "source": [
    "from sklearn.cluster import KMeans\n",
    "ks = range(1,10)\n",
    "inertias= []\n",
    "\n",
    "for k in ks:\n",
    "    model=KMeans(n_clusters=k)\n",
    "    model.fit(data)\n",
    "    inertias.append(model.inertia_)\n",
    "\n",
    "plt.figure(figsize=(8,5))\n",
    "plt.style.use('bmh')\n",
    "plt.plot(ks, inertias,'-o')\n",
    "plt.xlabel('Number of clusters, K')\n",
    "plt.ylabel('Inertia')\n",
    "plt.xticks(ks)\n",
    "plt.show()"
   ]
  },
  {
   "cell_type": "markdown",
   "metadata": {},
   "source": [
    "### Looks like the best value (\"elbow\" of the line) for k is 2 (two clusters)."
   ]
  },
  {
   "cell_type": "code",
   "execution_count": 14,
   "metadata": {},
   "outputs": [],
   "source": [
    "from sklearn.metrics import homogeneity_score, completeness_score, \\\n",
    "v_measure_score, adjusted_rand_score, adjusted_mutual_info_score, silhouette_score\n",
    "def k_means(n_clust, data_frame, true_labels):\n",
    "    k_means = KMeans(n_clusters = n_clust, random_state=123, n_init=30)\n",
    "    k_means.fit(data_frame)\n",
    "    c_labels = k_means.labels_\n",
    "    df = pd.DataFrame({'clust_label': c_labels, 'orig_label': true_labels.tolist()})\n",
    "    ct = pd.crosstab(df['clust_label'], df['orig_label'])\n",
    "    y_clust = k_means.predict(data_frame)\n",
    "    display(ct)\n",
    "    print('% 9s' % 'inertia  homo    compl   v-meas   ARI     AMI     silhouette')\n",
    "    print('%i   %.3f   %.3f   %.3f   %.3f   %.3f    %.3f'\n",
    "      %(k_means.inertia_,\n",
    "      homogeneity_score(true_labels, y_clust),\n",
    "      completeness_score(true_labels, y_clust),\n",
    "      v_measure_score(true_labels, y_clust),\n",
    "      adjusted_rand_score(true_labels, y_clust),\n",
    "      adjusted_mutual_info_score(true_labels, y_clust),\n",
    "      silhouette_score(data_frame, y_clust, metric='euclidean')))"
   ]
  },
  {
   "cell_type": "code",
   "execution_count": 15,
   "metadata": {},
   "outputs": [
    {
     "data": {
      "text/html": [
       "<div>\n",
       "<style scoped>\n",
       "    .dataframe tbody tr th:only-of-type {\n",
       "        vertical-align: middle;\n",
       "    }\n",
       "\n",
       "    .dataframe tbody tr th {\n",
       "        vertical-align: top;\n",
       "    }\n",
       "\n",
       "    .dataframe thead th {\n",
       "        text-align: right;\n",
       "    }\n",
       "</style>\n",
       "<table border=\"1\" class=\"dataframe\">\n",
       "  <thead>\n",
       "    <tr style=\"text-align: right;\">\n",
       "      <th>orig_label</th>\n",
       "      <th>LAYING</th>\n",
       "      <th>SITTING</th>\n",
       "      <th>STANDING</th>\n",
       "      <th>WALKING</th>\n",
       "      <th>WALKING_DOWNSTAIRS</th>\n",
       "      <th>WALKING_UPSTAIRS</th>\n",
       "    </tr>\n",
       "    <tr>\n",
       "      <th>clust_label</th>\n",
       "      <th></th>\n",
       "      <th></th>\n",
       "      <th></th>\n",
       "      <th></th>\n",
       "      <th></th>\n",
       "      <th></th>\n",
       "    </tr>\n",
       "  </thead>\n",
       "  <tbody>\n",
       "    <tr>\n",
       "      <th>0</th>\n",
       "      <td>680</td>\n",
       "      <td>622</td>\n",
       "      <td>668</td>\n",
       "      <td>0</td>\n",
       "      <td>0</td>\n",
       "      <td>6</td>\n",
       "    </tr>\n",
       "    <tr>\n",
       "      <th>1</th>\n",
       "      <td>1</td>\n",
       "      <td>1</td>\n",
       "      <td>0</td>\n",
       "      <td>603</td>\n",
       "      <td>493</td>\n",
       "      <td>535</td>\n",
       "    </tr>\n",
       "  </tbody>\n",
       "</table>\n",
       "</div>"
      ],
      "text/plain": [
       "orig_label   LAYING  SITTING  STANDING  WALKING  WALKING_DOWNSTAIRS  \\\n",
       "clust_label                                                           \n",
       "0               680      622       668        0                   0   \n",
       "1                 1        1         0      603                 493   \n",
       "\n",
       "orig_label   WALKING_UPSTAIRS  \n",
       "clust_label                    \n",
       "0                           6  \n",
       "1                         535  "
      ]
     },
     "metadata": {},
     "output_type": "display_data"
    },
    {
     "name": "stdout",
     "output_type": "stream",
     "text": [
      "inertia  homo    compl   v-meas   ARI     AMI     silhouette\n",
      "1156484   0.378   0.981   0.546   0.329   0.378    0.390\n"
     ]
    }
   ],
   "source": [
    "k_means(n_clust=2,data_frame=data,true_labels=label)"
   ]
  },
  {
   "cell_type": "markdown",
   "metadata": {},
   "source": [
    "### It looks like algorithm found patterns for Moving and Not-Moving activity with high level of accuracy."
   ]
  },
  {
   "cell_type": "code",
   "execution_count": 18,
   "metadata": {},
   "outputs": [],
   "source": [
    "# change labels into binary: 0-not moving, 1-moving\n",
    "label_binary = label.copy()\n",
    "for i in range(len(label_binary)):\n",
    "    if (label_binary[i]=='STANDING' or label_binary[i]=='SITTING' or label_binary[i]=='LAYING'):\n",
    "        label_binary[i]=0\n",
    "    else:\n",
    "        label_binary[i]=1\n",
    "label_binary= np.array(label_binary.astype(int))\n",
    "    "
   ]
  },
  {
   "cell_type": "code",
   "execution_count": 20,
   "metadata": {},
   "outputs": [
    {
     "data": {
      "text/html": [
       "<div>\n",
       "<style scoped>\n",
       "    .dataframe tbody tr th:only-of-type {\n",
       "        vertical-align: middle;\n",
       "    }\n",
       "\n",
       "    .dataframe tbody tr th {\n",
       "        vertical-align: top;\n",
       "    }\n",
       "\n",
       "    .dataframe thead th {\n",
       "        text-align: right;\n",
       "    }\n",
       "</style>\n",
       "<table border=\"1\" class=\"dataframe\">\n",
       "  <thead>\n",
       "    <tr style=\"text-align: right;\">\n",
       "      <th>orig_label</th>\n",
       "      <th>0</th>\n",
       "      <th>1</th>\n",
       "    </tr>\n",
       "    <tr>\n",
       "      <th>clust_label</th>\n",
       "      <th></th>\n",
       "      <th></th>\n",
       "    </tr>\n",
       "  </thead>\n",
       "  <tbody>\n",
       "    <tr>\n",
       "      <th>0</th>\n",
       "      <td>1970</td>\n",
       "      <td>6</td>\n",
       "    </tr>\n",
       "    <tr>\n",
       "      <th>1</th>\n",
       "      <td>2</td>\n",
       "      <td>1631</td>\n",
       "    </tr>\n",
       "  </tbody>\n",
       "</table>\n",
       "</div>"
      ],
      "text/plain": [
       "orig_label      0     1\n",
       "clust_label            \n",
       "0            1970     6\n",
       "1               2  1631"
      ]
     },
     "metadata": {},
     "output_type": "display_data"
    },
    {
     "name": "stdout",
     "output_type": "stream",
     "text": [
      "inertia  homo    compl   v-meas   ARI     AMI     silhouette\n",
      "1156484   0.977   0.978   0.978   0.991   0.977    0.390\n"
     ]
    }
   ],
   "source": [
    "k_means(n_clust=2, data_frame=data, true_labels=label_binary)"
   ]
  },
  {
   "cell_type": "markdown",
   "metadata": {},
   "source": [
    "### Principal component analysis (PCA)"
   ]
  },
  {
   "cell_type": "code",
   "execution_count": 28,
   "metadata": {},
   "outputs": [],
   "source": [
    "from sklearn.decomposition import PCA\n",
    "pca= PCA()\n",
    "x_pca = pca.fit_transform(data)\n",
    "features= range(pca.n_components_)"
   ]
  },
  {
   "cell_type": "code",
   "execution_count": 29,
   "metadata": {},
   "outputs": [
    {
     "data": {
      "image/png": "[encoded data removed]",
      "text/plain": [
       "<matplotlib.figure.Figure at 0x25d62b45438>"
      ]
     },
     "metadata": {},
     "output_type": "display_data"
    }
   ],
   "source": [
    "plt.figure(figsize= (8,8))\n",
    "plt.bar(features[:15], pca.explained_variance_[:15])\n",
    "plt.xlabel('PCA feature')\n",
    "plt.ylabel('Variance')\n",
    "plt.xticks(features[:15])\n",
    "plt.show()"
   ]
  },
  {
   "cell_type": "markdown",
   "metadata": {},
   "source": [
    "### 1 feature seems to be the best fit."
   ]
  },
  {
   "cell_type": "code",
   "execution_count": 30,
   "metadata": {},
   "outputs": [],
   "source": [
    "pca_new = PCA(n_components=3)\n",
    "x_new = pca_new.fit_transform(data)"
   ]
  },
  {
   "cell_type": "code",
   "execution_count": 31,
   "metadata": {},
   "outputs": [
    {
     "data": {
      "text/html": [
       "<div>\n",
       "<style scoped>\n",
       "    .dataframe tbody tr th:only-of-type {\n",
       "        vertical-align: middle;\n",
       "    }\n",
       "\n",
       "    .dataframe tbody tr th {\n",
       "        vertical-align: top;\n",
       "    }\n",
       "\n",
       "    .dataframe thead th {\n",
       "        text-align: right;\n",
       "    }\n",
       "</style>\n",
       "<table border=\"1\" class=\"dataframe\">\n",
       "  <thead>\n",
       "    <tr style=\"text-align: right;\">\n",
       "      <th>orig_label</th>\n",
       "      <th>LAYING</th>\n",
       "      <th>SITTING</th>\n",
       "      <th>STANDING</th>\n",
       "      <th>WALKING</th>\n",
       "      <th>WALKING_DOWNSTAIRS</th>\n",
       "      <th>WALKING_UPSTAIRS</th>\n",
       "    </tr>\n",
       "    <tr>\n",
       "      <th>clust_label</th>\n",
       "      <th></th>\n",
       "      <th></th>\n",
       "      <th></th>\n",
       "      <th></th>\n",
       "      <th></th>\n",
       "      <th></th>\n",
       "    </tr>\n",
       "  </thead>\n",
       "  <tbody>\n",
       "    <tr>\n",
       "      <th>0</th>\n",
       "      <td>680</td>\n",
       "      <td>622</td>\n",
       "      <td>668</td>\n",
       "      <td>0</td>\n",
       "      <td>0</td>\n",
       "      <td>6</td>\n",
       "    </tr>\n",
       "    <tr>\n",
       "      <th>1</th>\n",
       "      <td>1</td>\n",
       "      <td>1</td>\n",
       "      <td>0</td>\n",
       "      <td>603</td>\n",
       "      <td>493</td>\n",
       "      <td>535</td>\n",
       "    </tr>\n",
       "  </tbody>\n",
       "</table>\n",
       "</div>"
      ],
      "text/plain": [
       "orig_label   LAYING  SITTING  STANDING  WALKING  WALKING_DOWNSTAIRS  \\\n",
       "clust_label                                                           \n",
       "0               680      622       668        0                   0   \n",
       "1                 1        1         0      603                 493   \n",
       "\n",
       "orig_label   WALKING_UPSTAIRS  \n",
       "clust_label                    \n",
       "0                           6  \n",
       "1                         535  "
      ]
     },
     "metadata": {},
     "output_type": "display_data"
    },
    {
     "name": "stdout",
     "output_type": "stream",
     "text": [
      "inertia  homo    compl   v-meas   ARI     AMI     silhouette\n",
      "349388   0.378   0.981   0.546   0.329   0.378    0.662\n"
     ]
    }
   ],
   "source": [
    "k_means(n_clust=2, data_frame=x_new, true_labels=label)"
   ]
  },
  {
   "cell_type": "code",
   "execution_count": 32,
   "metadata": {},
   "outputs": [
    {
     "data": {
      "text/plain": [
       "(3609, 3)"
      ]
     },
     "execution_count": 32,
     "metadata": {},
     "output_type": "execute_result"
    }
   ],
   "source": [
    "x_new.shape"
   ]
  },
  {
   "cell_type": "code",
   "execution_count": 58,
   "metadata": {},
   "outputs": [
    {
     "data": {
      "image/png": "[encoded data removed]",
      "text/plain": [
       "<matplotlib.figure.Figure at 0x25d62cd0cc0>"
      ]
     },
     "metadata": {},
     "output_type": "display_data"
    }
   ],
   "source": [
    "colors= ['green','blue','pink','yellow']\n",
    "fig= plt.figure(figsize=(8,8))\n",
    "ax=fig.add_subplot(111)\n",
    "for i in range(len(colors)):\n",
    "    x= x_new[:,0][label==label_keys[i]]\n",
    "    y= x_new[:,1][label==label_keys[i]]\n",
    "    ax.scatter(x,y,c=colors[i], alpha=0.2)\n",
    "\n",
    "ax.set_xlabel('First Principal Component')\n",
    "ax.set_ylabel('Second Principal Component')\n",
    "ax.set_title(\"PCA Scatter Plot\")\n",
    "plt.show()\n"
   ]
  },
  {
   "cell_type": "code",
   "execution_count": 62,
   "metadata": {},
   "outputs": [
    {
     "data": {
      "text/html": [
       "<div>\n",
       "<style scoped>\n",
       "    .dataframe tbody tr th:only-of-type {\n",
       "        vertical-align: middle;\n",
       "    }\n",
       "\n",
       "    .dataframe tbody tr th {\n",
       "        vertical-align: top;\n",
       "    }\n",
       "\n",
       "    .dataframe thead th {\n",
       "        text-align: right;\n",
       "    }\n",
       "</style>\n",
       "<table border=\"1\" class=\"dataframe\">\n",
       "  <thead>\n",
       "    <tr style=\"text-align: right;\">\n",
       "      <th>orig_label</th>\n",
       "      <th>LAYING</th>\n",
       "      <th>SITTING</th>\n",
       "      <th>STANDING</th>\n",
       "      <th>WALKING</th>\n",
       "      <th>WALKING_DOWNSTAIRS</th>\n",
       "      <th>WALKING_UPSTAIRS</th>\n",
       "    </tr>\n",
       "    <tr>\n",
       "      <th>clust_label</th>\n",
       "      <th></th>\n",
       "      <th></th>\n",
       "      <th></th>\n",
       "      <th></th>\n",
       "      <th></th>\n",
       "      <th></th>\n",
       "    </tr>\n",
       "  </thead>\n",
       "  <tbody>\n",
       "    <tr>\n",
       "      <th>0</th>\n",
       "      <td>680</td>\n",
       "      <td>623</td>\n",
       "      <td>668</td>\n",
       "      <td>0</td>\n",
       "      <td>0</td>\n",
       "      <td>8</td>\n",
       "    </tr>\n",
       "    <tr>\n",
       "      <th>1</th>\n",
       "      <td>1</td>\n",
       "      <td>0</td>\n",
       "      <td>0</td>\n",
       "      <td>603</td>\n",
       "      <td>493</td>\n",
       "      <td>533</td>\n",
       "    </tr>\n",
       "  </tbody>\n",
       "</table>\n",
       "</div>"
      ],
      "text/plain": [
       "orig_label   LAYING  SITTING  STANDING  WALKING  WALKING_DOWNSTAIRS  \\\n",
       "clust_label                                                           \n",
       "0               680      623       668        0                   0   \n",
       "1                 1        0         0      603                 493   \n",
       "\n",
       "orig_label   WALKING_UPSTAIRS  \n",
       "clust_label                    \n",
       "0                           8  \n",
       "1                         533  "
      ]
     },
     "metadata": {},
     "output_type": "display_data"
    },
    {
     "name": "stdout",
     "output_type": "stream",
     "text": [
      "inertia  homo    compl   v-meas   ARI     AMI     silhouette\n",
      "168716   0.378   0.980   0.546   0.329   0.378    0.794\n"
     ]
    }
   ],
   "source": [
    "pca_new = PCA(n_components=1)\n",
    "x_new = pca_new.fit_transform(data)\n",
    "k_means(n_clust=2, data_frame=x_new, true_labels=label)"
   ]
  },
  {
   "cell_type": "markdown",
   "metadata": {},
   "source": [
    "### Inertia and Silhouette seems to be much better now after reduction."
   ]
  },
  {
   "cell_type": "code",
   "execution_count": 63,
   "metadata": {},
   "outputs": [],
   "source": [
    "## Checking for clustering model for 2 components."
   ]
  },
  {
   "cell_type": "code",
   "execution_count": 64,
   "metadata": {},
   "outputs": [
    {
     "data": {
      "text/html": [
       "<div>\n",
       "<style scoped>\n",
       "    .dataframe tbody tr th:only-of-type {\n",
       "        vertical-align: middle;\n",
       "    }\n",
       "\n",
       "    .dataframe tbody tr th {\n",
       "        vertical-align: top;\n",
       "    }\n",
       "\n",
       "    .dataframe thead th {\n",
       "        text-align: right;\n",
       "    }\n",
       "</style>\n",
       "<table border=\"1\" class=\"dataframe\">\n",
       "  <thead>\n",
       "    <tr style=\"text-align: right;\">\n",
       "      <th>orig_label</th>\n",
       "      <th>LAYING</th>\n",
       "      <th>SITTING</th>\n",
       "      <th>STANDING</th>\n",
       "      <th>WALKING</th>\n",
       "      <th>WALKING_DOWNSTAIRS</th>\n",
       "      <th>WALKING_UPSTAIRS</th>\n",
       "    </tr>\n",
       "    <tr>\n",
       "      <th>clust_label</th>\n",
       "      <th></th>\n",
       "      <th></th>\n",
       "      <th></th>\n",
       "      <th></th>\n",
       "      <th></th>\n",
       "      <th></th>\n",
       "    </tr>\n",
       "  </thead>\n",
       "  <tbody>\n",
       "    <tr>\n",
       "      <th>0</th>\n",
       "      <td>679</td>\n",
       "      <td>622</td>\n",
       "      <td>668</td>\n",
       "      <td>0</td>\n",
       "      <td>0</td>\n",
       "      <td>6</td>\n",
       "    </tr>\n",
       "    <tr>\n",
       "      <th>1</th>\n",
       "      <td>2</td>\n",
       "      <td>1</td>\n",
       "      <td>0</td>\n",
       "      <td>603</td>\n",
       "      <td>493</td>\n",
       "      <td>535</td>\n",
       "    </tr>\n",
       "  </tbody>\n",
       "</table>\n",
       "</div>"
      ],
      "text/plain": [
       "orig_label   LAYING  SITTING  STANDING  WALKING  WALKING_DOWNSTAIRS  \\\n",
       "clust_label                                                           \n",
       "0               679      622       668        0                   0   \n",
       "1                 2        1         0      603                 493   \n",
       "\n",
       "orig_label   WALKING_UPSTAIRS  \n",
       "clust_label                    \n",
       "0                           6  \n",
       "1                         535  "
      ]
     },
     "metadata": {},
     "output_type": "display_data"
    },
    {
     "name": "stdout",
     "output_type": "stream",
     "text": [
      "inertia  homo    compl   v-meas   ARI     AMI     silhouette\n",
      "295753   0.377   0.978   0.545   0.329   0.377    0.694\n"
     ]
    }
   ],
   "source": [
    "pca_new = PCA(n_components=2)\n",
    "x_new = pca_new.fit_transform(data)\n",
    "k_means(n_clust=2, data_frame=x_new, true_labels=label)"
   ]
  },
  {
   "cell_type": "markdown",
   "metadata": {},
   "source": [
    "### No improvement here"
   ]
  },
  {
   "cell_type": "code",
   "execution_count": null,
   "metadata": {},
   "outputs": [],
   "source": []
  }
 ],
 "metadata": {
  "kernelspec": {
   "display_name": "Python 3",
   "language": "python",
   "name": "python3"
  },
  "language_info": {
   "codemirror_mode": {
    "name": "ipython",
    "version": 3
   },
   "file_extension": ".py",
   "mimetype": "text/x-python",
   "name": "python",
   "nbconvert_exporter": "python",
   "pygments_lexer": "ipython3",
   "version": "3.6.6"
  }
 },
 "nbformat": 4,
 "nbformat_minor": 2
}
